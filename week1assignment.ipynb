{
 "cells": [
  {
   "cell_type": "code",
   "execution_count": 80,
   "metadata": {
    "colab": {},
    "colab_type": "code",
    "id": "F-6bE0dYcBgA"
   },
   "outputs": [],
   "source": [
    "## Import stuff\n",
    " \n",
    "import numpy as np\n",
    "from sklearn import datasets, linear_model, metrics\n",
    "from sklearn.linear_model import LinearRegression\n",
    "import matplotlib.pyplot as plt "
   ]
  },
  {
   "cell_type": "code",
   "execution_count": 86,
   "metadata": {
    "colab": {},
    "colab_type": "code",
    "id": "gK71NIhMcEs5"
   },
   "outputs": [],
   "source": [
    "## Load the diabetes dataset\n",
    "diabetes = datasets.load_diabetes()\n",
    "diabetes_X = diabetes.data # matrix of dimensions 442x10\n",
    " \n",
    "# Split the data into training/testing sets\n",
    "diabetes_X_train = diabetes_X[:-20]\n",
    "diabetes_X_test = diabetes_X[-20:]\n",
    " \n",
    "# Split the targets into training/testing sets\n",
    "diabetes_y_train = diabetes.target[:-20]\n",
    "diabetes_y_test = diabetes.target[-20:]"
   ]
  },
  {
   "cell_type": "code",
   "execution_count": null,
   "metadata": {
    "colab": {},
    "colab_type": "code",
    "id": "XJTg22ybcHsl"
   },
   "outputs": [
    {
     "name": "stdout",
     "output_type": "stream",
     "text": [
      "Epoch 0: 14734.323460\n"
     ]
    }
   ],
   "source": [
    "# train\n",
    "X = diabetes_X_train\n",
    "y = diabetes_y_train\n",
    " \n",
    "# train: init\n",
    "W = np.zeros(10)\n",
    "b = 0\n",
    "n=len(y)\n",
    "learning_rate = 0.01\n",
    "epochs = 5000\n",
    "err=[]\n",
    "# train: gradient descent\n",
    "for i in range(epochs):\n",
    "    sq_error=0\n",
    "    for j in range(422):\n",
    "        h=np.dot(W,X[j])+b\n",
    "        sq_error+=((h-y[j])**2)\n",
    "    sq_error/=(2*n)\n",
    "    err.append(sq_error)\n",
    "    for j in range(10):\n",
    "        sum1=0\n",
    "        for k in range(422):\n",
    "            h=np.dot(W,X[k])+b\n",
    "            sum1+=(h-y[k])*X[k][j]\n",
    "        W[j]-=learning_rate*sum1/n\n",
    "        sum1=0\n",
    "        for k in range(422):\n",
    "            h=np.dot(W,X[k])+b\n",
    "            sum1+=h-y[k]\n",
    "        b-=learning_rate*sum1/n\n",
    "    # diagnostic output\n",
    "    if i % 500 == 0: print(\"Epoch %d: %f\" % (i, sq_error))\n",
    "\n",
    "plt.plot(err)"
   ]
  },
  {
   "cell_type": "code",
   "execution_count": 90,
   "metadata": {
    "colab": {},
    "colab_type": "code",
    "id": "uvSdTn-0cKJL"
   },
   "outputs": [
    {
     "name": "stdout",
     "output_type": "stream",
     "text": [
      "Coefficients: \n",
      " [ 26.78950685   0.74216918  91.59298386  67.99156191  28.02597327\n",
      "  21.01014126 -58.83774749  62.90159775  86.91235847  57.17953666]\n",
      "Mean squared error: 101.90\n",
      "========================================================================================================================\n"
     ]
    }
   ],
   "source": [
    "# test\n",
    "X = diabetes_X_test\n",
    "y = diabetes_y_test\n",
    "\n",
    "# calculate predictions + calculate error and cost (same code as above)\n",
    "for i in range(len(X)):\n",
    "    sq_error=0\n",
    "    h=np.dot(W,X[i])+b\n",
    "    sq_error+=((h-y[j])**2)\n",
    "sq_error/=(2*len(y))\n",
    "print('Coefficients: \\n', W)\n",
    "print(\"Mean squared error: %.2f\" % sq_error)\n",
    "print(\"=\"*120)"
   ]
  },
  {
   "cell_type": "code",
   "execution_count": null,
   "metadata": {},
   "outputs": [],
   "source": []
  },
  {
   "cell_type": "code",
   "execution_count": null,
   "metadata": {},
   "outputs": [],
   "source": []
  }
 ],
 "metadata": {
  "colab": {
   "name": "week1assignment.ipynb",
   "provenance": []
  },
  "kernelspec": {
   "display_name": "Python 3",
   "language": "python",
   "name": "python3"
  },
  "language_info": {
   "codemirror_mode": {
    "name": "ipython",
    "version": 3
   },
   "file_extension": ".py",
   "mimetype": "text/x-python",
   "name": "python",
   "nbconvert_exporter": "python",
   "pygments_lexer": "ipython3",
   "version": "3.7.6"
  }
 },
 "nbformat": 4,
 "nbformat_minor": 1
}

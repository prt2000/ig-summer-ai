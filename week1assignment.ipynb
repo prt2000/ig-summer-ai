{
 "cells": [
  {
   "cell_type": "code",
   "execution_count": 2,
   "metadata": {
    "colab": {},
    "colab_type": "code",
    "id": "F-6bE0dYcBgA"
   },
   "outputs": [],
   "source": [
    "## Import stuff\n",
    " \n",
    "import numpy as np\n",
    "from sklearn import datasets, linear_model, metrics\n",
    "from sklearn.linear_model import LinearRegression\n",
    "import matplotlib.pyplot as plt "
   ]
  },
  {
   "cell_type": "code",
   "execution_count": 4,
   "metadata": {
    "colab": {},
    "colab_type": "code",
    "id": "gK71NIhMcEs5"
   },
   "outputs": [],
   "source": [
    "## Load the diabetes dataset\n",
    "diabetes = datasets.load_diabetes()\n",
    "diabetes_X = diabetes.data # matrix of dimensions 442x10\n",
    " \n",
    "# Split the data into training/testing sets\n",
    "diabetes_X_train = diabetes_X[:-20]\n",
    "diabetes_X_test = diabetes_X[-20:]\n",
    " \n",
    "# Split the targets into training/testing sets\n",
    "diabetes_y_train = diabetes.target[:-20]\n",
    "diabetes_y_test = diabetes.target[-20:]"
   ]
  },
  {
   "cell_type": "code",
   "execution_count": 5,
   "metadata": {
    "colab": {},
    "colab_type": "code",
    "id": "XJTg22ybcHsl"
   },
   "outputs": [
    {
     "name": "stdout",
     "output_type": "stream",
     "text": [
      "Epoch 0: 14734.323460\n",
      "Epoch 500: 2714.396144\n",
      "Epoch 1000: 2509.645724\n",
      "Epoch 1500: 2347.352691\n",
      "Epoch 2000: 2217.843260\n",
      "Epoch 2500: 2113.717566\n",
      "Epoch 3000: 2029.309849\n",
      "Epoch 3500: 1960.277196\n",
      "Epoch 4000: 1903.286186\n",
      "Epoch 4500: 1855.774110\n"
     ]
    },
    {
     "data": {
      "text/plain": [
       "[<matplotlib.lines.Line2D at 0x1dc875acec8>]"
      ]
     },
     "execution_count": 5,
     "metadata": {},
     "output_type": "execute_result"
    },
    {
     "data": {
      "image/png": "[encoded data removed]",
      "text/plain": [
       "<Figure size 432x288 with 1 Axes>"
      ]
     },
     "metadata": {
      "needs_background": "light"
     },
     "output_type": "display_data"
    }
   ],
   "source": [
    "# train\n",
    "X = diabetes_X_train\n",
    "y = diabetes_y_train\n",
    " \n",
    "# train: init\n",
    "W = np.zeros(10)\n",
    "b = 0\n",
    "n=len(y)\n",
    "learning_rate = 0.03\n",
    "epochs = 5000\n",
    "err=[]\n",
    "# train: gradient descent\n",
    "for i in range(epochs):\n",
    "    sq_error=0\n",
    "    for j in range(422):\n",
    "        h=np.dot(W,X[j])+b\n",
    "        sq_error+=((h-y[j])**2)\n",
    "    sq_error/=(2*n)\n",
    "    err.append(sq_error)\n",
    "    for j in range(10):\n",
    "        sum1=0\n",
    "        for k in range(422):\n",
    "            h=np.dot(W,X[k])+b\n",
    "            sum1+=(h-y[k])*X[k][j]\n",
    "        W[j]-=learning_rate*sum1/n\n",
    "        sum1=0\n",
    "        for k in range(422):\n",
    "            h=np.dot(W,X[k])+b\n",
    "            sum1+=h-y[k]\n",
    "        b-=learning_rate*sum1/n\n",
    "    # diagnostic output\n",
    "    if i % 500 == 0: print(\"Epoch %d: %f\" % (i, sq_error))\n",
    "\n",
    "plt.plot(err)"
   ]
  },
  {
   "cell_type": "code",
   "execution_count": 6,
   "metadata": {
    "colab": {},
    "colab_type": "code",
    "id": "uvSdTn-0cKJL"
   },
   "outputs": [
    {
     "name": "stdout",
     "output_type": "stream",
     "text": [
      "Coefficients: \n",
      " [  48.46308558  -19.38350289  213.52866974  153.20070622   40.78942512\n",
      "   21.32666312 -127.06546442  123.39885112  193.70371054  116.997039  ]\n",
      "Mean squared error: 29.51\n",
      "========================================================================================================================\n"
     ]
    }
   ],
   "source": [
    "# test\n",
    "X = diabetes_X_test\n",
    "y = diabetes_y_test\n",
    "\n",
    "# calculate predictions + calculate error and cost (same code as above)\n",
    "for i in range(len(X)):\n",
    "    sq_error=0\n",
    "    h=np.dot(W,X[i])+b\n",
    "    sq_error+=((h-y[j])**2)\n",
    "sq_error/=(2*len(y))\n",
    "print('Coefficients: \\n', W)\n",
    "print(\"Mean squared error: %.2f\" % sq_error)\n",
    "print(\"=\"*120)"
   ]
  },
  {
   "cell_type": "code",
   "execution_count": null,
   "metadata": {},
   "outputs": [],
   "source": []
  },
  {
   "cell_type": "code",
   "execution_count": null,
   "metadata": {},
   "outputs": [],
   "source": []
  }
 ],
 "metadata": {
  "colab": {
   "name": "week1assignment.ipynb",
   "provenance": []
  },
  "kernelspec": {
   "display_name": "Python 3",
   "language": "python",
   "name": "python3"
  },
  "language_info": {
   "codemirror_mode": {
    "name": "ipython",
    "version": 3
   },
   "file_extension": ".py",
   "mimetype": "text/x-python",
   "name": "python",
   "nbconvert_exporter": "python",
   "pygments_lexer": "ipython3",
   "version": "3.7.6"
  }
 },
 "nbformat": 4,
 "nbformat_minor": 1
}
